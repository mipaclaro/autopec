{
 "cells": [
  {
   "cell_type": "code",
   "execution_count": null,
   "metadata": {
    "vscode": {
     "languageId": "plaintext"
    }
   },
   "outputs": [],
   "source": [
    "# Exemplo de notebook para experimentação e análise\n",
    "\n",
    "# Importar os controladores e utilitários necessários\n",
    "from utils.selenium_utils import inicializar_driver, realizar_login, carregar_coordenadas_excel\n",
    "from controllers.lancamento_preso_controller import passagem, processar_retirada\n",
    "from controllers.arquivo_controller import ler_texto_pdf, salvar_em_excel\n",
    "\n",
    "# Inicializar o driver do Selenium\n",
    "driver = inicializar_driver()\n",
    "\n",
    "# Realizar login no sistema\n",
    "realizar_login(driver)\n",
    "\n",
    "# Carregar coordenadas do Excel\n",
    "coordenadas = carregar_coordenadas_excel('coordenadas_mouse.xlsx')\n",
    "if coordenadas:\n",
    "    print(\"Coordenadas carregadas com sucesso.\")\n",
    "else:\n",
    "    print(\"Falha ao carregar coordenadas.\")\n",
    "\n",
    "# Exemplo 1: Processar uma passagem\n",
    "print(\"Processando uma passagem de exemplo...\")\n",
    "passagem()\n",
    "\n",
    "# Exemplo 2: Ler um arquivo PDF e salvar em Excel\n",
    "print(\"Lendo um arquivo PDF e salvando em Excel...\")\n",
    "linhas = ler_texto_pdf('exemplo.pdf')\n",
    "salvar_em_excel(linhas, 'resultado_exemplo.xlsx', ['Texto'])\n",
    "\n",
    "# Finalizar o driver\n",
    "driver.quit()"
   ]
  }
 ],
 "metadata": {
  "language_info": {
   "name": "python"
  }
 },
 "nbformat": 4,
 "nbformat_minor": 2
}
